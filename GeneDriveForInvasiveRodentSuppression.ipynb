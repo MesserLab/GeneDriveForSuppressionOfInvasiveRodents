{
 "cells": [
  {
   "cell_type": "markdown",
   "metadata": {},
   "source": [
    "# Modeling the potential of CRISPR gene drives for rodent management\n",
    "<hr style=\"border:2px solid gray\"> </hr>\n",
    "This notebook accompanies \"Modeling the potential of CRISPR gene drives for rodent management\", and can be used to perform additional sensitivity analyses on subspaces of the gaussian process models, make additional two-at-a-time plots, and three-at-a-time animated plots.\n",
    "\n",
    "First, some imports:"
   ]
  },
  {
   "cell_type": "code",
   "execution_count": null,
   "metadata": {},
   "outputs": [],
   "source": [
    "from rat_gp import *\n",
    "from rat_plot import *\n",
    "from IPython.display import HTML\n",
    "%matplotlib inline"
   ]
  },
  {
   "cell_type": "markdown",
   "metadata": {},
   "source": [
    "<hr style=\"border:1px solid gray\"> </hr>\n",
    "\n",
    "## 1. Loading a model\n",
    "First, load the model and check model predictions are against the default testing set via the check_accuracy function. A different test set can be specified as a parameter of the check_accuracy function.\n",
    "\n",
    "The load_model function has three arguments: model_name, model_type, and force_cpu.\n",
    "\n",
    "Five models are available to specify via model_name:\n",
    "- \"female_fertility_homing\"\n",
    "- \"female_fertility_homing_resistance\"\n",
    "- \"viability_homing\"\n",
    "- \"viability_homing_resistance\"\n",
    "- \"y_shredder\"\n",
    "\n",
    "For each of these, two model_type settings are available:\n",
    "- \"composite\"\n",
    "- \"suppression_rate\"\n",
    "\n",
    "The \"suppression_rate\" models are slightly more accurate, but have much looser confidence bounds, which may make the \"composite\" model more suitable for plotting purposes.\n",
    "\n",
    "The code will automatically detect whether or not a CUDA enabled GPU is available to accelerate the model. To prevent the model from using your GPU if you have one, add \"force_cpu=True\" to the function call. There is no reason to do this unless you're doing some other computing work with your GPU or if you get a GPU out of memory error.\n",
    "\n",
    "Note: Gaussian processes are stochastic. Loading the model requires that the model undergo a single training iteration on the test data, which is done internally by the function. This means that the loading function is also stochastic, and the model can vary from load to load by a very small amount."
   ]
  },
  {
   "cell_type": "code",
   "execution_count": null,
   "metadata": {},
   "outputs": [],
   "source": [
    "# Choose a model name from:\n",
    "    # \"viability_homing\", \n",
    "    # \"viability_homing_resistance\",\n",
    "    # \"female_fertility_homing\",\n",
    "    # \"female_fertility_homing_resistance\",\n",
    "    # \"y_shredder\".\n",
    "# Choose a model mode from: \"composite\", \"suppression_rate\".\n",
    "\n",
    "model = load_model(model_name=\"female_fertility_homing\", model_type=\"composite\", force_cpu=False)\n",
    "model.check_accuracy()\n",
    "\n",
    "# Note: this can take a minute or two on some computers."
   ]
  },
  {
   "cell_type": "markdown",
   "metadata": {},
   "source": [
    "<hr style=\"border:1px solid gray\"> </hr>\n",
    "\n",
    "## 2. Two-at-a-time analyses\n",
    "\n",
    "Using the model to generate heatmap plots is straight forward, and is done using the plot_2d function, which has the following signiture:\n",
    "\n",
    "plot_2d(model, x_param, y_param, fixed_params, param_ranges, x_and_y_steps)\n",
    "\n",
    "- model: The name of the GP model to plot from. This is just \"model\" if you're using the code above.\n",
    "- x_param: name of the parameter to plot on the x-axis.\n",
    "- y_param: name of the parameter to plot on the y-axis.\n",
    "- fixed_params: a dictionary object containing the fixed values of the other parameters. If the x and y parameters being plotted are in this dictionary, they will be ignored. If the dictionary is missing parameters, the default parameter values will be used for those parameters. This argument can be ommited, in which case default parameters are used.\n",
    "- param_ranges: a dictionary of ranges through which to vary parameters if they are selected as x and y parameters. This argument can be ommited, in which case the full standard parameter ranges are used.\n",
    "- x_and_y_steps: the number of steps the x and y parameters will be stepped through. The plots in the the manuscript used 1000 for this value, but this may take a while on a computer that doesn't have a fast GPU.\n",
    "\n",
    "The parameter names that can be used for x_param and y_param are the same as the names in the fixed_params and param_ranges dictionary objects below."
   ]
  },
  {
   "cell_type": "code",
   "execution_count": null,
   "metadata": {
    "scrolled": false
   },
   "outputs": [],
   "source": [
    "# These are the default fixed parameters for the model.\n",
    "# Changing these values will change the fixed parameters (which are not shown in the plot):\n",
    "fixed_params = {\n",
    "        'Density': 1000.0,\n",
    "        'Island side length': 2.0,\n",
    "        'Interaction distance': 75.0,\n",
    "        'Avg. dispersal': 250.0,\n",
    "        'Monthly survival rate': 0.9,\n",
    "        'Litter size': 4.0,\n",
    "        'Itinerant frequency': 0.1,\n",
    "        'Itin. dispersal multiplier': 2.0,\n",
    "        'Release Percentage': 0.1,\n",
    "        'Drive fitness': 1.0,\n",
    "        'Drive efficiency': 0.9,\n",
    "        'Resistance rate': 0.0,\n",
    "        'R1 rate': 0.0\n",
    "}\n",
    "\n",
    "# These are the standard parameter ranges, with the exception that the minimum levels for\n",
    "# \"Drive efficiency\" and \"Resistance rate\" can be decreased to 0.5 in the models for\n",
    "# the homing drives without resistance.\n",
    "# Changing the ranges of the parameters being plotted will change the range of the plot:\n",
    "param_ranges = {\n",
    "        \"Density\" : (600, 1500),\n",
    "        \"Island side length\" : (1, 5),\n",
    "        \"Interaction distance\" : (60, 300),\n",
    "        \"Avg. dispersal\" : (25, 1000),\n",
    "        \"Monthly survival rate\" : (0.7, 0.95),\n",
    "        \"Litter size\" : (2, 8),\n",
    "        \"Itinerant frequency\" : (0, 0.5),\n",
    "        \"Itin. dispersal multiplier\" : (1, 5),\n",
    "        \"Release Percentage\" : (0.01, 0.5),\n",
    "        \"Drive fitness\" : (0.75, 1.0),\n",
    "        \"Drive efficiency\" :(0.75, 1.0),\n",
    "        \"Resistance rate\" : (0.0, 0.1),\n",
    "        \"R1 rate\" : (0.0, 0.02)\n",
    "}\n",
    "# Actually, you can specify fixed parameters and parameter ranges that are outside those\n",
    "# used to train the models, but predictions will get stranger and confidence intervals will get\n",
    "# wider the further the model tries to extrapolate beyond data it has seen.\n",
    "\n",
    "# Plot 100 X 100 predictions of \"Drive fitness\" against \"Drive efficiency\"\n",
    "# using the fixed parameters and parameter ranges specified above:\n",
    "plot_2d(model, \"Drive fitness\", \"Drive efficiency\", fixed_params, param_ranges, x_and_y_steps=100)"
   ]
  },
  {
   "cell_type": "markdown",
   "metadata": {},
   "source": [
    "<hr style=\"border:1px solid gray\"> </hr>\n",
    "\n",
    "## 3. Three-at-a-time analyses\n",
    "\n",
    "The model can also be used generate animated heatmaps, showing how a 2d slice of the model changes in response to a third parameter. This is done with the animated_plot function, which has the following signiture:\n",
    "\n",
    "animated_plot(model, x_param, y_param, time_param, fixed_params, param_ranges, x_and_y_steps, time_steps)\n",
    "\n",
    "All arguments are the same as above, except two which have been added:\n",
    "\n",
    "- z_param: the third parameter, which will be varied through the course of the animation.\n",
    "- z_steps: the number of steps for the time parameter."
   ]
  },
  {
   "cell_type": "code",
   "execution_count": null,
   "metadata": {
    "scrolled": false
   },
   "outputs": [],
   "source": [
    "# Fixed parameters and parameter ranges are specified the same way as thhe two-at-a-time plots.\n",
    "\n",
    "# As before, fixed_params doesn't need to include any params that you\n",
    "# want to keep at the default values, e.g. you could just change the\n",
    "# litter size parameter and keep other fixed params at default:\n",
    "fixed_params = {\n",
    "        'Litter size': 2.5,\n",
    "}\n",
    "\n",
    "# As before, param_ranges doesn't need to include any params that aren't\n",
    "# being varied, or that you want to keep at the standard ranges, e.g.\n",
    "# to show a plot area with a specified range of drive fitness and efficiency:\n",
    "param_ranges = {\n",
    "        \"Drive fitness\" : (0.6, 1.0),\n",
    "        \"Drive efficiency\" :(0.6, 1.0),\n",
    "}\n",
    "\n",
    "# This plot can take a while to generate depending on the number of\n",
    "# x, y, and z steps, so adjust those values accordingly.\n",
    "anim = animated_plot(model, \"Drive fitness\", \"Drive efficiency\", \"Monthly survival rate\",\n",
    "                           fixed_params, param_ranges, x_and_y_steps=100, z_steps=20)\n",
    "\n",
    "# To display the animation as an interactable javascript widget.\n",
    "# This may have issues with some browsers.\n",
    "HTML(anim.to_jshtml())\n",
    "\n",
    "# # Alternatively, the animation can be displayed as an embeded video:\n",
    "# # This also may have issues with some browsers, but hopefully one of these t!\n",
    "# # This requires ffmpeg:\n",
    "# HTML(anim.to_html5_video())\n",
    "\n",
    "# # To save the animation using ffmpeg:\n",
    "# anim.save('AnimatedPlot.mp4', writer=animation.writers['ffmpeg'](fps=12))\n",
    "\n",
    "# Matplotlib likes to display the first frame of the animation as its own plot for some curious reason.\n",
    "# There are ways to prevent this, but they seem not to work consistently accross browsers, so its best to ignore it.\n",
    "\n",
    "# Note: this can take a minute or two on some computers.\n",
    "# If it is too slow, change around the number of x and y steps or the number of z steps."
   ]
  },
  {
   "cell_type": "markdown",
   "metadata": {},
   "source": [
    "<hr style=\"border:1px solid gray\"> </hr>\n",
    "\n",
    "## 4. Sensitivity analysis\n",
    "It is also straight forward to coduct and plot a Sobol sensitivity analyis of the model.\n",
    "\n",
    "The sensitivity_analysis function has three parameters:\n",
    "\n",
    "- base_sample: Correlates to the number of model evaluations. We used 1000000 in the manuscript, but that might take a very long time for machines that don't have top end GPUs, and takes 45 minutes to an hour even with a high end system.\n",
    "- param_ranges: an optional dictionary object containing parameter ranges, as for the plots above. Paramters that are not included in this dictionary will use standard paramter ranges for the model. If this argument is not supplied, the sensitivity analysis will use the entire standard parameter space.\n",
    "- verbose: prints the analysis as text.\n",
    "\n",
    "The sa_plot function plots the results of the sensitivity analysis. It has an optional argument of \"limit_num_second_order_bars\", which limits the number of items that will be plotted on the second order analysis to the n largest. This can be set to \"limit_num_second_order_bars=None\", in which case the plot will be very long."
   ]
  },
  {
   "cell_type": "code",
   "execution_count": null,
   "metadata": {
    "scrolled": false
   },
   "outputs": [],
   "source": [
    "# These are the default parameter ranges:\n",
    "# param_ranges = {\n",
    "#         \"Density\" : (600, 1500),\n",
    "#         \"Island side length\" : (1, 5),\n",
    "#         \"Interaction distance\" : (60, 300),\n",
    "#         \"Avg. dispersal\" : (25, 1000),\n",
    "#         \"Monthly survival rate\" : (0.7, 0.95),\n",
    "#         \"Litter size\" : (2, 8),\n",
    "#         \"Itinerant frequency\" : (0, 0.5),\n",
    "#         \"Itin. dispersal multiplier\" : (1, 5),\n",
    "#         \"Release Percentage\" : (0.01, 0.5),\n",
    "#         \"Drive fitness\" : (0.75, 1.0),\n",
    "#         \"Drive efficiency\" :(0.75, 1.0),\n",
    "#         \"Resistance rate\" : (0.0, 0.1),\n",
    "#         \"R1 rate\" : (0.0, 0.02)\n",
    "# }\n",
    "\n",
    "# Let's try a sensitivity analysis with a interaction distance dispersal distance both fixed at a minimal level,\n",
    "# but other paramters at their standard ranges.\n",
    "# These can be set to single numbers, instead of a pairs, unlike in the plots above:\n",
    "param_ranges = {\"Interaction distance\" : 60, \n",
    "                \"Avg. dispersal\" : 25}\n",
    "\n",
    "sa = model.sensitivity_analysis(base_sample=1000, param_ranges=param_ranges, verbose=False)\n",
    "sa_plot(sa, limit_num_second_order_bars=12)"
   ]
  }
 ],
 "metadata": {
  "kernelspec": {
   "display_name": "Python 3.7.6 64-bit",
   "language": "python",
   "name": "python37664bit799463d24f224affa3b24eb12046d6d5"
  },
  "language_info": {
   "codemirror_mode": {
    "name": "ipython",
    "version": 3
   },
   "file_extension": ".py",
   "mimetype": "text/x-python",
   "name": "python",
   "nbconvert_exporter": "python",
   "pygments_lexer": "ipython3",
   "version": "3.7.6"
  }
 },
 "nbformat": 4,
 "nbformat_minor": 4
}
